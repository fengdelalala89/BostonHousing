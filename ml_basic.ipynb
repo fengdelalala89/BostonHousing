{
 "cells": [
  {
   "cell_type": "markdown",
   "metadata": {
    "slideshow": {
     "slide_type": "slide"
    }
   },
   "source": [
    "# 机器学习入门"
   ]
  },
  {
   "cell_type": "markdown",
   "metadata": {
    "slideshow": {
     "slide_type": "slide"
    }
   },
   "source": [
    "## 工具篇"
   ]
  },
  {
   "cell_type": "markdown",
   "metadata": {
    "slideshow": {
     "slide_type": "subslide"
    }
   },
   "source": [
    "###### Anaconda & conda\n",
    "###### Jupyter notebook\n",
    "###### Markdown\n",
    "###### LaTeX\n",
    "###### reveal.js"
   ]
  },
  {
   "cell_type": "markdown",
   "metadata": {
    "slideshow": {
     "slide_type": "subslide"
    }
   },
   "source": [
    "### Anaconda & conda\n",
    "###### Anaconda\n",
    "   建立虚拟环境，管理不同的项目\n",
    "   \n",
    "   解决 Python 不同版本之间以及包版本之间的冲突问题\n",
    "###### conda\n",
    "   包与环境管理器\n",
    "   \n",
    "   类似于pip"
   ]
  },
  {
   "cell_type": "markdown",
   "metadata": {
    "slideshow": {
     "slide_type": "subslide"
    }
   },
   "source": [
    "###### conda环境管理\n",
    "conda create -n env_name package_list\n",
    "\n",
    "conda evn list\n",
    "\n",
    "activate env_name\n",
    "\n",
    "deactivte\n",
    "\n",
    "导出环境包列表\n",
    "conda env export > environment.yaml\n",
    "\n",
    "通过环境文件创建环境\n",
    "conda env create -f environment.yaml\n",
    "\n",
    "###### conda 常用命令\n",
    "conda list\n",
    "\n",
    "conda install numpy pandas scikit-learn"
   ]
  },
  {
   "cell_type": "markdown",
   "metadata": {},
   "source": [
    "### jupyter notebook\n",
    "文字表达化编程：直接在代码旁写出叙述性文档\n",
    "\n",
    "Donald Knuth: 让我们集中精力向人们解释我们希望计算机做什么，而不是指示计算机做什么。\n",
    "\n",
    "Jupyter notebook 是一种 Web 应用，能让用户将说明文本、数学方程、代码和可视化内容全部组合到一个易于共享的文档中"
   ]
  },
  {
   "cell_type": "markdown",
   "metadata": {
    "slideshow": {
     "slide_type": "subslide"
    }
   },
   "source": [
    "![title](jupyter notebook arch.jpg)"
   ]
  },
  {
   "cell_type": "markdown",
   "metadata": {
    "slideshow": {
     "slide_type": "subslide"
    }
   },
   "source": [
    "### Markdown\n",
    "\n",
    "用 reStructuredText 写文件的工程师鄙视用 Markdown 写文件的工程师，\n",
    "\n",
    "用 Markdown 写文件的工程师鄙视用 HTML 写文件的工程师，\n",
    "\n",
    "用 HTML 写文件的工程师鄙视不写文件的工程师，\n",
    "\n",
    "然后用 LaTeX 写文件的工程师鄙视所有工程师。"
   ]
  },
  {
   "cell_type": "markdown",
   "metadata": {
    "slideshow": {
     "slide_type": "subslide"
    }
   },
   "source": [
    "# 这是一级标题\n",
    "## 这是二级标题\n",
    "### 这是三级标题\n",
    "*这是斜体字*\n",
    "\n",
    "_这也是斜体字_\n",
    "\n",
    "**这是粗体字**\n",
    "\n",
    "__这也是粗体字__\n",
    "\n",
    "```\n",
    "import pandas\n",
    "print \"这是一段代码\"\n",
    "```"
   ]
  },
  {
   "cell_type": "markdown",
   "metadata": {
    "slideshow": {
     "slide_type": "subslide"
    }
   },
   "source": [
    "### LaTex"
   ]
  }
 ],
 "metadata": {
  "celltoolbar": "Slideshow",
  "kernelspec": {
   "display_name": "Python 2",
   "language": "python",
   "name": "python2"
  },
  "language_info": {
   "codemirror_mode": {
    "name": "ipython",
    "version": 2
   },
   "file_extension": ".py",
   "mimetype": "text/x-python",
   "name": "python",
   "nbconvert_exporter": "python",
   "pygments_lexer": "ipython2",
   "version": "2.7.13"
  }
 },
 "nbformat": 4,
 "nbformat_minor": 2
}
